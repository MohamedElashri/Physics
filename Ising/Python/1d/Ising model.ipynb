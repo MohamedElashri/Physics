{
 "cells": [
  {
   "cell_type": "markdown",
   "metadata": {},
   "source": [
    "# The Ising model"
   ]
  },
  {
   "cell_type": "markdown",
   "metadata": {},
   "source": [
    "## Goal: \n",
    "Implementing computational simulation of one dimension Ising model"
   ]
  },
  {
   "cell_type": "markdown",
   "metadata": {},
   "source": [
    "### history \n",
    "This model was suggested to Ising by his thesis adviser, Lenz. Ising\n",
    "solved the one-dimensional model, ..., and on the basis of the fact\n",
    "that the one-dimensional model had no phase transition, he asserted\n",
    "that there was no phase transition in any dimension. As we shall\n",
    "see, this is false. It is ironic that on the basis of an elementary\n",
    "calculation and erroneous conclusion, Ising’s name has become among\n",
    "the most commonly mentioned in the theoretical physics literature.\n",
    "But history has had its revenge. Ising’s name, which is correctly\n",
    "pronounced “E-zing,” is almost universally mispronounced “I-zing.”\n",
    "\n",
    "Barry Simon\n",
    "\n",
    "                                                                 "
   ]
  },
  {
   "cell_type": "markdown",
   "metadata": {},
   "source": [
    "#### For revising the theoritical concept of ising model including derivation and all other aspects, I recommend going through \"Statistical Mechanics 3rd Edition\" section 13.2 "
   ]
  },
  {
   "cell_type": "code",
   "execution_count": 1,
   "metadata": {},
   "outputs": [],
   "source": [
    "import numpy\n",
    "import matplotlib.pyplot as plt\n",
    "\n",
    "## The following package is required to update the plot within the same figure\n",
    "## this allows us to save time editing plot without the need to re-run code\n",
    "from IPython.display import clear_output"
   ]
  },
  {
   "cell_type": "markdown",
   "metadata": {},
   "source": [
    "To update our two plots during the simulation we have in this notebook we use  the function *live_plot* in the following cell.\n",
    "it allows us to do this through updating the plot in a sequence."
   ]
  },
  {
   "cell_type": "code",
   "execution_count": 5,
   "metadata": {},
   "outputs": [],
   "source": [
    "def live_plot(data_2D, data_1D):\n",
    "    \"\"\"\n",
    "      Clear the figure and update the plots with newly created data\n",
    "      \n",
    "        :params:  - data_2D --> 2D numpy array\n",
    "                  - data_1D --> Two 1D numpy arrays containing the x and y axis of the plotted data\n",
    "    \"\"\"\n",
    "    clear_output(wait=True)\n",
    "    \n",
    "    ## we initialize the figure with corresponding subplots\n",
    "    fig = plt.figure(figsize = (22, 10))\n",
    "    ax1 = fig.add_subplot(1, 2, 1)\n",
    "    ax2 = fig.add_subplot(1, 2, 2)\n",
    "    \n",
    "    ## we plot direct visualization of the spin states in the system\n",
    "    ax1.imshow(data_2D, interpolation = \"none\", vmin = -1., vmax = 1., cmap = \"hot\")\n",
    "\n",
    "    ## we plot magnetization as a function of time. where time here corresponds to simulation steps\n",
    "    ax2.plot(data_1D[:, 0], data_1D[:, 1])\n",
    "    ax2.set_xlim(0, Steps)\n",
    "    ax2.set_ylim(-1.1, 1.1)\n",
    "    \n",
    "    ax2.set_xlabel(\"Simulation step\", fontsize = 20)\n",
    "    ax2.set_ylabel(\"<M>\", fontsize = 20)\n",
    "    \n",
    "    plt.show();"
   ]
  },
  {
   "cell_type": "markdown",
   "metadata": {},
   "source": [
    "Let start with defining system parameters by defining the number of particles in our system *N_* and the number of Steps_ the simulation is executed over.\n",
    "\n",
    "The thermal energy *k_BT* and the external magnetic field B_ are expressed in terms of the nearest neighbour exchange energy *J*."
   ]
  },
  {
   "cell_type": "code",
   "execution_count": 10,
   "metadata": {},
   "outputs": [],
   "source": [
    "N_ = 100\n",
    "Steps_ = 300000\n",
    "\n",
    "B_ = -1.0          # [J]\n",
    "k_BT = 2.3        # [J]\n",
    "\n",
    "## Calculate the energy change due to one spin flip\n",
    "def deltaE(S, i, j):\n",
    "    Sij  = S[i, j]\n",
    "    Enow = -Sij * (S[(i+1)%N_, j] + S[(i-1)%N_, j] + S[i, (j+1)%N_] + S[i, (j-1)%N_] + float(B_)) ## Use periodic boundary conditions\n",
    "    return -2 * Enow"
   ]
  },
  {
   "cell_type": "markdown",
   "metadata": {},
   "source": [
    "Now we initialize the system by randomly defining the spins. We do this by generating a two by two array with values between 0 and 1. All values below 0.5 correspond to spin down,  -1 and all values above 0.5 correspond to spin up, +1."
   ]
  },
  {
   "cell_type": "code",
   "execution_count": 11,
   "metadata": {},
   "outputs": [
    {
     "data": {
      "image/png": "[encoded data removed]",
      "text/plain": [
       "<Figure size 1584x720 with 2 Axes>"
      ]
     },
     "metadata": {
      "needs_background": "light"
     },
     "output_type": "display_data"
    }
   ],
   "source": [
    "## Initially, we assign the spins randomly \n",
    "spins = numpy.where(numpy.random.random((N_, N_)) > 0.5, 1, -1)\n",
    "\n",
    "## Determine the magnitization and store in numpy array with shape:\n",
    "M = numpy.zeros((Steps_, 2))\n",
    "M[0] = 0, numpy.array([numpy.mean(spins)])\n",
    "\n",
    "\n",
    "## Now we define what every simulation step will do\n",
    "for idx in range(Steps_):\n",
    "    ## Select a random value for i and j\n",
    "    i, j = numpy.random.randint(0, N_, 2)\n",
    "    ## For the selected indices i and j determine the change in energy\n",
    "    dE = deltaE(spins, i, j)\n",
    "    \n",
    "    ## If the change in energy is smaller than 0, or a random number is smaller \n",
    "    ## than the corresponding thermal fluctuations, allow the spin change/flip\n",
    "    if (dE < 0.0) or (numpy.random.random() < numpy.exp(-dE / float(k_BT))):\n",
    "        spins[i, j] = -spins[i, j]\n",
    "\n",
    "    ## Determine the magnetization of the system and store into the \n",
    "    M[idx] = idx, numpy.mean(spins)\n",
    "    \n",
    "    ## For every 999th step, update the plots\n",
    "    if idx %(999) == 0:       \n",
    "        live_plot(spins, M[:idx])\n"
   ]
  },
  {
   "cell_type": "code",
   "execution_count": null,
   "metadata": {},
   "outputs": [],
   "source": []
  }
 ],
 "metadata": {
  "kernelspec": {
   "display_name": "Python 3",
   "language": "python",
   "name": "python3"
  },
  "language_info": {
   "codemirror_mode": {
    "name": "ipython",
    "version": 3
   },
   "file_extension": ".py",
   "mimetype": "text/x-python",
   "name": "python",
   "nbconvert_exporter": "python",
   "pygments_lexer": "ipython3",
   "version": "3.6.8"
  }
 },
 "nbformat": 4,
 "nbformat_minor": 2
}
